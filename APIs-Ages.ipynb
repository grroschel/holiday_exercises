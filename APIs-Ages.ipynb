{
 "cells": [
  {
   "cell_type": "code",
   "execution_count": null,
   "metadata": {},
   "outputs": [],
   "source": [
    "# Dependencies\n",
    "import requests\n",
    "import json\n",
    "from pprint import pprint\n",
    "import pandas as pd\n",
    "import numpy as np\n",
    "import datetime"
   ]
  },
  {
   "cell_type": "code",
   "execution_count": 2,
   "metadata": {
    "scrolled": true
   },
   "outputs": [
    {
     "name": "stdout",
     "output_type": "stream",
     "text": [
      "The query URL is http://pplapi.com/batch/5/country/us/sample.json\n"
     ]
    }
   ],
   "source": [
    "# Format the URL\n",
    "country = \"us\"\n",
    "num_of_samples = 5\n",
    "url = \"http://pplapi.com/batch/\"\n",
    "query_url = f\"{url}{num_of_samples}/country/{country}/sample.json\"\n",
    "print(f\"The query URL is {query_url}\")"
   ]
  },
  {
   "cell_type": "code",
   "execution_count": 3,
   "metadata": {},
   "outputs": [
    {
     "name": "stdout",
     "output_type": "stream",
     "text": [
      "<Response [200]>\n",
      "\n",
      "[{'age': 21,\n",
      "  'agreeableness': 0.29935413163631414,\n",
      "  'conscientiousness': 0.7380319988512459,\n",
      "  'country_name': 'United States',\n",
      "  'country_tld': 'us',\n",
      "  'date_of_birth': '1997-10-13',\n",
      "  'extraversion': 1.5177959586159875,\n",
      "  'id': 2688196321,\n",
      "  'id_str': 'YXd-q3w',\n",
      "  'income': 33649,\n",
      "  'internet': True,\n",
      "  'language': 'Asian and Pacific island',\n",
      "  'latitude': 34.89838192044672,\n",
      "  'longitude': -93.7663882379432,\n",
      "  'neuroticism': 1.9965794423631087,\n",
      "  'openness': -0.057256354722522274,\n",
      "  'religion': 'Roman Catholic',\n",
      "  'sex': 'Female'},\n",
      " {'age': 96,\n",
      "  'agreeableness': -0.2685177312092968,\n",
      "  'conscientiousness': 1.0584910688975402,\n",
      "  'country_name': 'United States',\n",
      "  'country_tld': 'us',\n",
      "  'date_of_birth': '1922-08-13',\n",
      "  'extraversion': -0.5805572065013828,\n",
      "  'id': 2794034369,\n",
      "  'id_str': 'YW1-Q5F',\n",
      "  'income': 60762,\n",
      "  'internet': False,\n",
      "  'language': 'European',\n",
      "  'latitude': 41.582386298756035,\n",
      "  'longitude': -97.94261744541788,\n",
      "  'neuroticism': -0.6767248943876969,\n",
      "  'openness': -1.2966231158402945,\n",
      "  'religion': 'Roman Catholic',\n",
      "  'sex': 'Female'},\n",
      " {'age': 6,\n",
      "  'agreeableness': -1.8752025902513014,\n",
      "  'conscientiousness': -1.5405479455136113,\n",
      "  'country_name': 'United States',\n",
      "  'country_tld': 'us',\n",
      "  'date_of_birth': '2012-07-22',\n",
      "  'extraversion': -0.385014011836304,\n",
      "  'id': 2660359526,\n",
      "  'id_str': 'LGQ-tmQ',\n",
      "  'income': 35159,\n",
      "  'internet': False,\n",
      "  'language': 'English',\n",
      "  'latitude': 35.35575353193378,\n",
      "  'longitude': -94.65728735575425,\n",
      "  'neuroticism': 0.026856051083600955,\n",
      "  'openness': 0.9648473540975825,\n",
      "  'religion': 'Protestant',\n",
      "  'sex': 'Female'},\n",
      " {'age': 79,\n",
      "  'agreeableness': -0.749317275894875,\n",
      "  'conscientiousness': -0.031136997548273843,\n",
      "  'country_name': 'United States',\n",
      "  'country_tld': 'us',\n",
      "  'date_of_birth': '1939-01-01',\n",
      "  'extraversion': -0.05255045713602596,\n",
      "  'id': 2697857455,\n",
      "  'id_str': 'igd-pBT',\n",
      "  'income': 25543,\n",
      "  'internet': True,\n",
      "  'language': 'English',\n",
      "  'latitude': 34.35096726295158,\n",
      "  'longitude': -93.41286771273033,\n",
      "  'neuroticism': -0.47512312534581375,\n",
      "  'openness': -0.9480136246062008,\n",
      "  'religion': 'Protestant',\n",
      "  'sex': 'Male'},\n",
      " {'age': 69,\n",
      "  'agreeableness': -1.2008655424118533,\n",
      "  'conscientiousness': 0.9143463245791258,\n",
      "  'country_name': 'United States',\n",
      "  'country_tld': 'us',\n",
      "  'date_of_birth': '1949-04-05',\n",
      "  'extraversion': -0.4300251395952012,\n",
      "  'id': 2848776539,\n",
      "  'id_str': 'ilh-CF8',\n",
      "  'income': 30368,\n",
      "  'internet': True,\n",
      "  'language': 'Spanish',\n",
      "  'latitude': 36.181939996769344,\n",
      "  'longitude': -92.6225510940585,\n",
      "  'neuroticism': 0.7741994914467208,\n",
      "  'openness': 0.10242206602700994,\n",
      "  'religion': 'Protestant',\n",
      "  'sex': 'Female'}]\n",
      "Response Type: <class 'list'>\n"
     ]
    }
   ],
   "source": [
    "# Make the API call/request\n",
    "print(requests.get(query_url))  \n",
    "print()\n",
    "\n",
    "# Retrieving the data\n",
    "data = requests.get(query_url).json()\n",
    "pprint(data)\n",
    "print(f\"Response Type: {type(data)}\")\n",
    "# print(f\"Response Length: {len(data)}\")"
   ]
  },
  {
   "cell_type": "code",
   "execution_count": 4,
   "metadata": {},
   "outputs": [
    {
     "name": "stdout",
     "output_type": "stream",
     "text": [
      "The list of birth dates from our sample of 5 is:\n",
      "------------------------------------------------\n",
      "\n",
      "1997-10-13\n",
      "1922-08-13\n",
      "2012-07-22\n",
      "1939-01-01\n",
      "1949-04-05\n"
     ]
    }
   ],
   "source": [
    "# Calculate the ages of each one in our sample of 5 and determine the range of ages\n",
    "###################################################################################\n",
    "\n",
    "dob_list = []\n",
    "# print(data[0][\"date_of_birth\"]) # For testing purposes only\n",
    "\n",
    "for numsamp in range(num_of_samples):\n",
    "#     print(f\"Processing sample # {x+1}\") # For testing purposes only\n",
    "    dob_list.append(data[numsamp][\"date_of_birth\"])\n",
    "\n",
    "print(f\"The list of birth dates from our sample of {num_of_samples} is:\")\n",
    "print(f\"------------------------------------------------\")\n",
    "print()\n",
    "for dob in dob_list:\n",
    "    print(dob)"
   ]
  },
  {
   "cell_type": "code",
   "execution_count": 5,
   "metadata": {},
   "outputs": [
    {
     "name": "stdout",
     "output_type": "stream",
     "text": [
      "Today is 2018-12-26\n",
      "Today is year 2018\n",
      "Today is month 12\n",
      "Today is day 26\n"
     ]
    }
   ],
   "source": [
    "now = datetime.datetime.now()\n",
    "today = f\"{now.year}-{now.month}-{now.day}\"\n",
    "print(f\"Today is {today}\")\n",
    "today_year = today[0:4]\n",
    "print(f\"Today is year {today_year}\")\n",
    "today_month = today[5:-3]\n",
    "print(f\"Today is month {today_month}\")\n",
    "today_day = today[8:]\n",
    "print(f\"Today is day {today_day}\")\n",
    "today_year = pd.to_numeric(today_year)\n",
    "today_month = pd.to_numeric(today_month)\n",
    "today_day = pd.to_numeric(today_day)"
   ]
  },
  {
   "cell_type": "code",
   "execution_count": 6,
   "metadata": {},
   "outputs": [
    {
     "name": "stdout",
     "output_type": "stream",
     "text": [
      "The ages of our sample of 5 are as follows:\n",
      "\n",
      "21\n",
      "96\n",
      "6\n",
      "79\n",
      "69\n"
     ]
    }
   ],
   "source": [
    "ages_list = []\n",
    "for sampdob in dob_list:\n",
    "    birth_year = sampdob[0:4]\n",
    "    birth_month = sampdob[5:-3]\n",
    "    birth_day = sampdob[8:]\n",
    "#     print(f\"The birth year is {birth_year}\")\n",
    "#     print(f\"The birth month is {birth_month}\")\n",
    "#     print(f\"The birth day is {birth_day}\")\n",
    "    birth_year = pd.to_numeric(birth_year)\n",
    "    birth_month = pd.to_numeric(birth_month)\n",
    "    birth_day = pd.to_numeric(birth_day)\n",
    "    age_year = today_year - birth_year\n",
    "    if birth_month >= today_month & birth_day >= today_day:\n",
    "        age_year += 1\n",
    "    ages_list.append(age_year)\n",
    "# print(ages_list)\n",
    "print(f\"The ages of our sample of {num_of_samples} are as follows:\")\n",
    "print()\n",
    "for ages in ages_list:\n",
    "    print(ages)"
   ]
  },
  {
   "cell_type": "code",
   "execution_count": 7,
   "metadata": {},
   "outputs": [
    {
     "name": "stdout",
     "output_type": "stream",
     "text": [
      "The range of ages from our sample of 5 is 90 (from 6 to 96)\n"
     ]
    }
   ],
   "source": [
    "# Calculate the range of ages\n",
    "ages_df = pd.DataFrame(ages_list)\n",
    "# print(neuro_df) # For testing purposes only\n",
    "min_age = ages_df.min()\n",
    "max_age = ages_df.max()\n",
    "age_range = list(max_age - min_age)\n",
    "# age_range\n",
    "for x1 in min_age:\n",
    "    min = format(x1, ',')\n",
    "for x2 in max_age:\n",
    "    max = format(x2, ',')    \n",
    "for x3 in age_range:\n",
    "    range = format(x3, ',')\n",
    "    print(f\"The range of ages from our sample of {num_of_samples} is {range} (from {min} to {max})\")"
   ]
  }
 ],
 "metadata": {
  "kernelspec": {
   "display_name": "Python 3",
   "language": "python",
   "name": "python3"
  },
  "language_info": {
   "codemirror_mode": {
    "name": "ipython",
    "version": 3
   },
   "file_extension": ".py",
   "mimetype": "text/x-python",
   "name": "python",
   "nbconvert_exporter": "python",
   "pygments_lexer": "ipython3",
   "version": "3.7.0"
  }
 },
 "nbformat": 4,
 "nbformat_minor": 2
}
