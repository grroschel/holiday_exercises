{
 "cells": [
  {
   "cell_type": "code",
   "execution_count": 3,
   "metadata": {},
   "outputs": [
    {
     "name": "stdout",
     "output_type": "stream",
     "text": [
      "20\n",
      "18\n"
     ]
    }
   ],
   "source": [
    "# Product Function\n",
    "def sumit(x, y):\n",
    "    z = x * y\n",
    "    print(z)\n",
    "sumit(5, 4)\n",
    "sumit(6, 3)"
   ]
  },
  {
   "cell_type": "code",
   "execution_count": 8,
   "metadata": {},
   "outputs": [
    {
     "name": "stdout",
     "output_type": "stream",
     "text": [
      "I got no money\n"
     ]
    }
   ],
   "source": [
    "# Concat Function\n",
    "def concatit(str1, str2):\n",
    "    str3 = str1 + str2\n",
    "    print(str3)\n",
    "concatit(\"I got \", \"no money\")"
   ]
  },
  {
   "cell_type": "code",
   "execution_count": 21,
   "metadata": {},
   "outputs": [
    {
     "name": "stdout",
     "output_type": "stream",
     "text": [
      "this is a crappy d\n"
     ]
    }
   ],
   "source": [
    "# Without last 2 letters function\n",
    "def del2(str):\n",
    "    str = str[:len(str) - 2]\n",
    "    print(str)\n",
    "del2(\"this is a crappy day\")\n",
    "        "
   ]
  },
  {
   "cell_type": "code",
   "execution_count": 45,
   "metadata": {},
   "outputs": [
    {
     "name": "stdout",
     "output_type": "stream",
     "text": [
      "msssspp\n",
      " m  fl fr tkng ths bt cmp\n"
     ]
    }
   ],
   "source": [
    "def eliminate_vowels(str):\n",
    "    vowels= ['a','e','i','o','u', 'A', 'E', 'I', 'O', 'U']\n",
    "    str_list = \"\"\n",
    "    for char in str:\n",
    "        if char not in vowels:\n",
    "            str_list = str_list + char\n",
    "    print(str_list)\n",
    "eliminate_vowels('Amississippi')\n",
    "eliminate_vowels(\"I am a fool for taking this boot camp\")"
   ]
  }
 ],
 "metadata": {
  "kernelspec": {
   "display_name": "Python 3",
   "language": "python",
   "name": "python3"
  },
  "language_info": {
   "codemirror_mode": {
    "name": "ipython",
    "version": 3
   },
   "file_extension": ".py",
   "mimetype": "text/x-python",
   "name": "python",
   "nbconvert_exporter": "python",
   "pygments_lexer": "ipython3",
   "version": "3.7.0"
  }
 },
 "nbformat": 4,
 "nbformat_minor": 2
}
