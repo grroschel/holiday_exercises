{
 "cells": [
  {
   "cell_type": "code",
   "execution_count": 35,
   "metadata": {},
   "outputs": [
    {
     "name": "stdout",
     "output_type": "stream",
     "text": [
      "My favorite_movie is: The Thin Man\n",
      "My favorite_song is: Layla\n",
      "My favorite_food is: pizza\n"
     ]
    }
   ],
   "source": [
    "faves={\"favorite_movie\" : \"The Thin Man\",\n",
    "      \"favorite_song\" : \"Layla\",\n",
    "      \"favorite_food\" : \"pizza\"}\n",
    "for item in faves:\n",
    "        print(f\"My {item} is: {faves[item]}\")"
   ]
  },
  {
   "cell_type": "code",
   "execution_count": 41,
   "metadata": {},
   "outputs": [
    {
     "ename": "TypeError",
     "evalue": "unhashable type: 'dict'",
     "output_type": "error",
     "traceback": [
      "\u001b[1;31m---------------------------------------------------------------------------\u001b[0m",
      "\u001b[1;31mTypeError\u001b[0m                                 Traceback (most recent call last)",
      "\u001b[1;32m<ipython-input-41-34cdfef595d8>\u001b[0m in \u001b[0;36m<module>\u001b[1;34m()\u001b[0m\n\u001b[0;32m     14\u001b[0m \u001b[1;33m\u001b[0m\u001b[0m\n\u001b[0;32m     15\u001b[0m \u001b[1;32mfor\u001b[0m \u001b[0mitem\u001b[0m \u001b[1;32min\u001b[0m \u001b[0mmy_list\u001b[0m\u001b[1;33m:\u001b[0m\u001b[1;33m\u001b[0m\u001b[0m\n\u001b[1;32m---> 16\u001b[1;33m     \u001b[0mprint\u001b[0m\u001b[1;33m(\u001b[0m\u001b[1;34mf\"My {item} is: {faves[item]}\"\u001b[0m\u001b[1;33m)\u001b[0m\u001b[1;33m\u001b[0m\u001b[0m\n\u001b[0m\u001b[0;32m     17\u001b[0m     \u001b[0mprint\u001b[0m\u001b[1;33m(\u001b[0m\u001b[1;34mf\"My {item} is: {unfaves[item]}\"\u001b[0m\u001b[1;33m)\u001b[0m\u001b[1;33m\u001b[0m\u001b[0m\n",
      "\u001b[1;31mTypeError\u001b[0m: unhashable type: 'dict'"
     ]
    }
   ],
   "source": [
    "unfaves={\"least_favorite_movie\" : \"Star Wars\",\n",
    "      \"least_favorite_song\" : \"anything rap\",\n",
    "      \"least_favorite_food\" : \"anything with hot peppers\"}\n",
    "my_list = [faves, unfaves]\n",
    "# print(my_list)\n",
    "# len(my_list)\n",
    "# for item in my_list:\n",
    "# #     print(f\"My {my_list[0]} is: {my_list[0]}\")\n",
    "# #     print()\n",
    "#     for item in faves:\n",
    "#         print(f\"My {item} is: {faves[item]}\")\n",
    "#     for item in unfaves:\n",
    "#         print(f\"My {item} is: {unfaves[item]}\")   \n",
    "\n",
    "for item in my_list:\n",
    "    print(f\"My {item} is: {faves[item]}\")\n",
    "    print(f\"My {item} is: {unfaves[item]}\")        "
   ]
  }
 ],
 "metadata": {
  "kernelspec": {
   "display_name": "Python 3",
   "language": "python",
   "name": "python3"
  },
  "language_info": {
   "codemirror_mode": {
    "name": "ipython",
    "version": 3
   },
   "file_extension": ".py",
   "mimetype": "text/x-python",
   "name": "python",
   "nbconvert_exporter": "python",
   "pygments_lexer": "ipython3",
   "version": "3.7.0"
  }
 },
 "nbformat": 4,
 "nbformat_minor": 2
}
