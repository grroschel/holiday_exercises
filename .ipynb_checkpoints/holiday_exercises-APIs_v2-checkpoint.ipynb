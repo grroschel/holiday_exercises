{
 "cells": [
  {
   "cell_type": "code",
   "execution_count": 6,
   "metadata": {},
   "outputs": [],
   "source": [
    "# Dependencies\n",
    "import requests\n",
    "import json\n",
    "from pprint import pprint\n",
    "import pandas as pd\n",
    "import numpy as np"
   ]
  },
  {
   "cell_type": "code",
   "execution_count": 7,
   "metadata": {},
   "outputs": [],
   "source": [
    "# Host: pplapi.com\n",
    "# ----------------\n",
    "\n",
    "# Sample from Agents in a Country (JSON):\n",
    "# --------------------------------------\n",
    "\n",
    "# Select a quantity of agents from the given country at random, and return the results as a JSON file.\n",
    "\n",
    "# GET /batch/(int: quantity)/country/(string: country_code)/sample.json\n",
    "\n",
    "# Query Parameters:\n",
    " \n",
    "# quantity – an integer > 0 and ≤ 500\n",
    "# country_code – an ISO 3166 country code\n",
    "\n",
    "# ISO 3166-1 alpha-2 codes are two-letter country codes defined in ISO 3166-1, part of the ISO 3166 standard published\n",
    "# by the International Organization for Standardization (ISO), to represent countries, dependent territories, and special\n",
    "# areas of geographical interest. They are the most widely used of the country codes published by ISO (the others being\n",
    "# alpha-3 and numeric), and are used most prominently for the Internet's country code top-level domains (with a few\n",
    "# exceptions).[1] They are also used as country identifiers extending the postal code when appropriate within the\n",
    "# international postal system for paper mail, and has replaced the previous one consisting one-letter codes. They were\n",
    "# first included as part of the ISO 3166 standard in its first edition in 1974.\n",
    "\n",
    "# US\tUnited States of America\t1974\t.us\tISO 3166-2:US\n",
    "\n",
    "# Example 1:\n",
    "    \n",
    "# In this example, sample a quantity of 2 agents from Canada. The ISO 3166 country code for Canada is “ca” so that\n",
    "# is added to the URL.\n",
    "\n",
    "# http://pplapi.com/batch/2/country/ca/sample.json\n",
    "\n",
    "# Example request:\n",
    "\n",
    "# GET /batch/2/country/ca/sample.json\n",
    "\n",
    "# Example 2:\n",
    "    \n",
    "# Get a sample of 5 agents from a Country\n",
    "\n",
    "# http://pplapi.com/batch/5/country/ca/sample.json"
   ]
  },
  {
   "cell_type": "code",
   "execution_count": 8,
   "metadata": {},
   "outputs": [
    {
     "name": "stdout",
     "output_type": "stream",
     "text": [
      "The query URL is http://pplapi.com/batch/5/country/us/sample.json\n"
     ]
    }
   ],
   "source": [
    "# Format the URL\n",
    "country = \"us\"\n",
    "num_of_samples = 5\n",
    "url = \"http://pplapi.com/batch/\"\n",
    "query_url = f\"{url}{num_of_samples}/country/{country}/sample.json\"\n",
    "print(f\"The query URL is {query_url}\")"
   ]
  },
  {
   "cell_type": "code",
   "execution_count": 9,
   "metadata": {},
   "outputs": [
    {
     "name": "stdout",
     "output_type": "stream",
     "text": [
      "<Response [200]>\n",
      "\n",
      "[{'age': 56,\n",
      "  'agreeableness': 0.5609318401419694,\n",
      "  'conscientiousness': -0.04869555696979684,\n",
      "  'country_name': 'United States',\n",
      "  'country_tld': 'us',\n",
      "  'date_of_birth': '1962-08-24',\n",
      "  'extraversion': -0.01487176442813303,\n",
      "  'id': 2875571253,\n",
      "  'id_str': '9ab-FZJ',\n",
      "  'income': 48263,\n",
      "  'internet': True,\n",
      "  'language': 'English',\n",
      "  'latitude': 36.169535489339815,\n",
      "  'longitude': -95.25150926754074,\n",
      "  'neuroticism': 0.6715326059566435,\n",
      "  'openness': -0.5852817728486519,\n",
      "  'religion': 'unaffiliated',\n",
      "  'sex': 'Female'},\n",
      " {'age': 98,\n",
      "  'agreeableness': 1.5095364355658156,\n",
      "  'conscientiousness': 0.7916371870512597,\n",
      "  'country_name': 'United States',\n",
      "  'country_tld': 'us',\n",
      "  'date_of_birth': '1920-12-24',\n",
      "  'extraversion': 0.8952459769458732,\n",
      "  'id': 2685632646,\n",
      "  'id_str': 'LI0-OTt',\n",
      "  'income': 44770,\n",
      "  'internet': True,\n",
      "  'language': 'English',\n",
      "  'latitude': 35.56136246978717,\n",
      "  'longitude': -100.42074882858587,\n",
      "  'neuroticism': -0.43852242762006227,\n",
      "  'openness': 0.17792788429104592,\n",
      "  'religion': 'Protestant',\n",
      "  'sex': 'Female'},\n",
      " {'age': 60,\n",
      "  'agreeableness': -0.14710678494889518,\n",
      "  'conscientiousness': -1.8193630550548234,\n",
      "  'country_name': 'United States',\n",
      "  'country_tld': 'us',\n",
      "  'date_of_birth': '1958-11-07',\n",
      "  'extraversion': -0.7322678453650127,\n",
      "  'id': 2741746467,\n",
      "  'id_str': '2ky-nNv',\n",
      "  'income': 57819,\n",
      "  'internet': True,\n",
      "  'language': 'English',\n",
      "  'latitude': 41.28132638193346,\n",
      "  'longitude': -101.4265871027703,\n",
      "  'neuroticism': 1.0037621737183722,\n",
      "  'openness': 0.420202805427941,\n",
      "  'religion': 'Protestant',\n",
      "  'sex': 'Male'},\n",
      " {'age': 46,\n",
      "  'agreeableness': 0.8984886839776756,\n",
      "  'conscientiousness': 0.057909441734037496,\n",
      "  'country_name': 'United States',\n",
      "  'country_tld': 'us',\n",
      "  'date_of_birth': '1972-06-01',\n",
      "  'extraversion': -0.05448202768539981,\n",
      "  'id': 2890232077,\n",
      "  'id_str': '9St-16I',\n",
      "  'income': 75623,\n",
      "  'internet': True,\n",
      "  'language': 'English',\n",
      "  'latitude': 40.522537615269314,\n",
      "  'longitude': -101.92763198991656,\n",
      "  'neuroticism': -0.7247104660002234,\n",
      "  'openness': -0.2650660354326294,\n",
      "  'religion': 'Roman Catholic',\n",
      "  'sex': 'Male'},\n",
      " {'age': 3,\n",
      "  'agreeableness': -1.4797460798211517,\n",
      "  'conscientiousness': -0.9002657096937334,\n",
      "  'country_name': 'United States',\n",
      "  'country_tld': 'us',\n",
      "  'date_of_birth': '2015-01-22',\n",
      "  'extraversion': 0.22835373889692193,\n",
      "  'id': 2659988024,\n",
      "  'id_str': 'yDE-Ut7',\n",
      "  'income': 38387,\n",
      "  'internet': True,\n",
      "  'language': 'English',\n",
      "  'latitude': 45.77426870319079,\n",
      "  'longitude': -105.98474769765974,\n",
      "  'neuroticism': 1.3682781426081478,\n",
      "  'openness': -0.2971532003313208,\n",
      "  'religion': 'Roman Catholic',\n",
      "  'sex': 'Female'}]\n",
      "Response Type: <class 'list'>\n"
     ]
    }
   ],
   "source": [
    "# Make the API call/request\n",
    "print(requests.get(query_url))  \n",
    "print()\n",
    "\n",
    "# Retrieving the data\n",
    "data = requests.get(query_url).json()\n",
    "pprint(data)\n",
    "print(f\"Response Type: {type(data)}\")\n",
    "# print(f\"Response Length: {len(data)}\")"
   ]
  },
  {
   "cell_type": "code",
   "execution_count": 10,
   "metadata": {},
   "outputs": [
    {
     "name": "stdout",
     "output_type": "stream",
     "text": [
      "The list of religions from our sample of 5 is:\n",
      "----------------------------------------------\n",
      "\n",
      "unaffiliated\n",
      "Protestant\n",
      "Protestant\n",
      "Roman Catholic\n",
      "Roman Catholic\n"
     ]
    }
   ],
   "source": [
    "# Determine the most prevalent religion for our sample of users\n",
    "###############################################################\n",
    "\n",
    "religion_list = []\n",
    "# print(data[0][\"religion\"]) # For testing purposes only\n",
    "\n",
    "for x in range(num_of_samples):\n",
    "#     print(f\"Processing sample # {x+1}\") # For testing purposes only\n",
    "    religion_list.append(data[x][\"religion\"])\n",
    "\n",
    "print(f\"The list of religions from our sample of {num_of_samples} is:\")\n",
    "print(f\"----------------------------------------------\")\n",
    "print()\n",
    "for rel in religion_list:\n",
    "    print(rel)"
   ]
  },
  {
   "cell_type": "code",
   "execution_count": 41,
   "metadata": {},
   "outputs": [
    {
     "name": "stdout",
     "output_type": "stream",
     "text": [
      "religions_df:\n",
      "-------------\n",
      "                0  count\n",
      "0    unaffiliated    NaN\n",
      "1      Protestant    NaN\n",
      "2      Protestant    NaN\n",
      "3  Roman Catholic    NaN\n",
      "4  Roman Catholic    NaN\n",
      "\n"
     ]
    }
   ],
   "source": [
    "religions_df = pd.DataFrame(religion_list)\n",
    "religions_df[\"count\"] = religions_df[0].value_counts()\n",
    "print(\"religions_df:\")\n",
    "print(\"-------------\")\n",
    "print(religions_df)\n",
    "print()\n",
    "\n",
    "# rel_grouped = religions_df.groupby([0])\n",
    "# rel_count = rel_grouped[0].count()\n",
    "# print(rel_count)\n",
    "\n",
    "# rel_count_df = pd.DataFrame()\n",
    "# rel_count_df[\"count\"] = rel_count\n",
    "# # rel_count_df[\"religion\"] = rel_count_df[:, 0]\n",
    "# rel_count_df\n",
    "\n",
    "# rel_count = religions_df[0].value_counts(normalize=False, sort=True, ascending=False)\n",
    "# print()\n",
    "# print(f\"The count of religions (sorted by count) in our sample of {num_of_samples} is:\")\n",
    "# print(f\"---------------------------------------------------------------\")\n",
    "# print(rel_count)\n",
    "# print()\n",
    "\n",
    "# rel_count_df = pd.DataFrame(rel_count)\n",
    "# print(\"rel_count (df):\")\n",
    "# print(\"---------------\")\n",
    "# print(rel_count_df)"
   ]
  },
  {
   "cell_type": "code",
   "execution_count": 12,
   "metadata": {},
   "outputs": [
    {
     "name": "stdout",
     "output_type": "stream",
     "text": [
      "The list of agreeablenesses from our sample of 5 is:\n",
      "----------------------------------------------------\n",
      "\n",
      "0.5609318401419694\n",
      "1.5095364355658156\n",
      "-0.14710678494889518\n",
      "0.8984886839776756\n",
      "-1.4797460798211517\n",
      "\n",
      "The average agreeableness of our sample of 5 is 0.27\n"
     ]
    }
   ],
   "source": [
    "# Determine the average agreeableness for our sample of users\n",
    "#############################################################\n",
    "\n",
    "agree_list = []\n",
    "# print(data[0][\"agreeableness\"]) # For testing purposes only\n",
    "\n",
    "for y in range(num_of_samples):\n",
    "#     print(f\"Processing sample # {x+1}\") # For testing purposes only\n",
    "    agree_list.append(data[y][\"agreeableness\"])\n",
    "\n",
    "print(f\"The list of agreeablenesses from our sample of {num_of_samples} is:\")\n",
    "print(f\"----------------------------------------------------\")\n",
    "print()\n",
    "for w in agree_list:\n",
    "    print(w)\n",
    "print()\n",
    "avg_agree = np.mean(agree_list)\n",
    "avg_agree = format(avg_agree, '.2f')\n",
    "print(f\"The average agreeableness of our sample of {num_of_samples} is {avg_agree}\")"
   ]
  },
  {
   "cell_type": "code",
   "execution_count": 13,
   "metadata": {},
   "outputs": [
    {
     "name": "stdout",
     "output_type": "stream",
     "text": [
      "The list of neuroticism from our sample of 5 is:\n",
      "------------------------------------------------\n",
      "\n",
      "0.6715326059566435\n",
      "-0.43852242762006227\n",
      "1.0037621737183722\n",
      "-0.7247104660002234\n",
      "1.3682781426081478\n",
      "\n",
      "The range of neuroticism from our sample of 5 is 2.09 (from -0.72 to 1.37)\n"
     ]
    }
   ],
   "source": [
    "# Calculate the range of neuroticism for your set of users\n",
    "##########################################################\n",
    "\n",
    "neuro_list = []\n",
    "# print(data[0][\"neuroticism\"]) # For testing purposes only\n",
    "\n",
    "for z in range(num_of_samples):\n",
    "#     print(f\"Processing sample # {x+1}\") # For testing purposes only\n",
    "    neuro_list.append(data[z][\"neuroticism\"])\n",
    "\n",
    "print(f\"The list of neuroticism from our sample of {num_of_samples} is:\")\n",
    "print(f\"------------------------------------------------\")\n",
    "print()\n",
    "for xx in neuro_list:\n",
    "    print(xx)\n",
    "print()\n",
    "\n",
    "# Calculate the range of neuroticism\n",
    "neuro_df = pd.DataFrame(neuro_list)\n",
    "# print(neuro_df) # For testing purposes only\n",
    "min_neuro = neuro_df.min()\n",
    "max_neuro = neuro_df.max()\n",
    "neuro_range = list(max_neuro - min_neuro)\n",
    "neuro_range\n",
    "for x1 in min_neuro:\n",
    "    min = format(x1, ',.2f')\n",
    "for x2 in max_neuro:\n",
    "    max = format(x2, ',.2f')    \n",
    "for x3 in neuro_range:\n",
    "    range = format(x3, ',.2f')\n",
    "    print(f\"The range of neuroticism from our sample of {num_of_samples} is {range} (from {min} to {max})\")"
   ]
  },
  {
   "cell_type": "code",
   "execution_count": 14,
   "metadata": {},
   "outputs": [
    {
     "ename": "TypeError",
     "evalue": "'str' object is not callable",
     "output_type": "error",
     "traceback": [
      "\u001b[1;31m---------------------------------------------------------------------------\u001b[0m",
      "\u001b[1;31mTypeError\u001b[0m                                 Traceback (most recent call last)",
      "\u001b[1;32m<ipython-input-14-9c9b68517de3>\u001b[0m in \u001b[0;36m<module>\u001b[1;34m()\u001b[0m\n\u001b[0;32m      5\u001b[0m \u001b[1;31m# print(data[0][\"date_of_birth\"]) # For testing purposes only\u001b[0m\u001b[1;33m\u001b[0m\u001b[1;33m\u001b[0m\u001b[0m\n\u001b[0;32m      6\u001b[0m \u001b[1;33m\u001b[0m\u001b[0m\n\u001b[1;32m----> 7\u001b[1;33m \u001b[1;32mfor\u001b[0m \u001b[0mnumsamp\u001b[0m \u001b[1;32min\u001b[0m \u001b[0mrange\u001b[0m\u001b[1;33m(\u001b[0m\u001b[0mnum_of_samples\u001b[0m\u001b[1;33m)\u001b[0m\u001b[1;33m:\u001b[0m\u001b[1;33m\u001b[0m\u001b[0m\n\u001b[0m\u001b[0;32m      8\u001b[0m \u001b[1;31m#     print(f\"Processing sample # {x+1}\") # For testing purposes only\u001b[0m\u001b[1;33m\u001b[0m\u001b[1;33m\u001b[0m\u001b[0m\n\u001b[0;32m      9\u001b[0m     \u001b[0mdob_list\u001b[0m\u001b[1;33m.\u001b[0m\u001b[0mappend\u001b[0m\u001b[1;33m(\u001b[0m\u001b[0mdata\u001b[0m\u001b[1;33m[\u001b[0m\u001b[0mnumsamp\u001b[0m\u001b[1;33m]\u001b[0m\u001b[1;33m[\u001b[0m\u001b[1;34m\"date_of_birth\"\u001b[0m\u001b[1;33m]\u001b[0m\u001b[1;33m)\u001b[0m\u001b[1;33m\u001b[0m\u001b[0m\n",
      "\u001b[1;31mTypeError\u001b[0m: 'str' object is not callable"
     ]
    }
   ],
   "source": [
    "# Calculate the ages of each one in our sample of 5 and determine the range of ages\n",
    "###################################################################################\n",
    "\n",
    "dob_list = []\n",
    "# print(data[0][\"date_of_birth\"]) # For testing purposes only\n",
    "\n",
    "for numsamp in range(num_of_samples):\n",
    "#     print(f\"Processing sample # {x+1}\") # For testing purposes only\n",
    "    dob_list.append(data[numsamp][\"date_of_birth\"])\n",
    "\n",
    "print(f\"The list of birth dates from our sample of {num_of_samples} is:\")\n",
    "print(f\"------------------------------------------------\")\n",
    "print()\n",
    "for dob in dob_list:\n",
    "    print(dob)\n",
    "print()"
   ]
  }
 ],
 "metadata": {
  "kernelspec": {
   "display_name": "Python 3",
   "language": "python",
   "name": "python3"
  },
  "language_info": {
   "codemirror_mode": {
    "name": "ipython",
    "version": 3
   },
   "file_extension": ".py",
   "mimetype": "text/x-python",
   "name": "python",
   "nbconvert_exporter": "python",
   "pygments_lexer": "ipython3",
   "version": "3.7.0"
  }
 },
 "nbformat": 4,
 "nbformat_minor": 2
}
