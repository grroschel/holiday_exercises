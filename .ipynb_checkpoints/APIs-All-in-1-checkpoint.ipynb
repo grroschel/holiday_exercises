{
 "cells": [
  {
   "cell_type": "code",
   "execution_count": 1,
   "metadata": {},
   "outputs": [],
   "source": [
    "# Dependencies\n",
    "import requests\n",
    "import json\n",
    "from pprint import pprint\n",
    "import pandas as pd\n",
    "import numpy as np\n",
    "import datetime"
   ]
  },
  {
   "cell_type": "code",
   "execution_count": 2,
   "metadata": {},
   "outputs": [],
   "source": [
    "# Host: pplapi.com\n",
    "# ----------------\n",
    "\n",
    "# Sample from Agents in a Country (JSON):\n",
    "# --------------------------------------\n",
    "\n",
    "# Select a quantity of agents from the given country at random, and return the results as a JSON file.\n",
    "\n",
    "# GET /batch/(int: quantity)/country/(string: country_code)/sample.json\n",
    "\n",
    "# Query Parameters:\n",
    " \n",
    "# quantity – an integer > 0 and ≤ 500\n",
    "# country_code – an ISO 3166 country code\n",
    "\n",
    "# ISO 3166-1 alpha-2 codes are two-letter country codes defined in ISO 3166-1, part of the ISO 3166 standard published\n",
    "# by the International Organization for Standardization (ISO), to represent countries, dependent territories, and special\n",
    "# areas of geographical interest. They are the most widely used of the country codes published by ISO (the others being\n",
    "# alpha-3 and numeric), and are used most prominently for the Internet's country code top-level domains (with a few\n",
    "# exceptions).[1] They are also used as country identifiers extending the postal code when appropriate within the\n",
    "# international postal system for paper mail, and has replaced the previous one consisting one-letter codes. They were\n",
    "# first included as part of the ISO 3166 standard in its first edition in 1974.\n",
    "\n",
    "# US\tUnited States of America\t1974\t.us\tISO 3166-2:US\n",
    "\n",
    "# Example 1:\n",
    "    \n",
    "# In this example, sample a quantity of 2 agents from Canada. The ISO 3166 country code for Canada is “ca” so that\n",
    "# is added to the URL.\n",
    "\n",
    "# http://pplapi.com/batch/2/country/ca/sample.json\n",
    "\n",
    "# Example request:\n",
    "\n",
    "# GET /batch/2/country/ca/sample.json\n",
    "\n",
    "# Example 2:\n",
    "    \n",
    "# Get a sample of 5 agents from a Country\n",
    "\n",
    "# http://pplapi.com/batch/5/country/ca/sample.json"
   ]
  },
  {
   "cell_type": "code",
   "execution_count": 3,
   "metadata": {},
   "outputs": [
    {
     "name": "stdout",
     "output_type": "stream",
     "text": [
      "The query URL is http://pplapi.com/batch/5/country/us/sample.json\n"
     ]
    }
   ],
   "source": [
    "# Format the URL\n",
    "country = \"us\"\n",
    "num_of_samples = 5\n",
    "url = \"http://pplapi.com/batch/\"\n",
    "query_url = f\"{url}{num_of_samples}/country/{country}/sample.json\"\n",
    "print(f\"The query URL is {query_url}\")"
   ]
  },
  {
   "cell_type": "code",
   "execution_count": 4,
   "metadata": {},
   "outputs": [
    {
     "name": "stdout",
     "output_type": "stream",
     "text": [
      "<Response [200]>\n",
      "\n",
      "[{'age': 9,\n",
      "  'agreeableness': 1.2025860118348053,\n",
      "  'conscientiousness': -0.004109723437627969,\n",
      "  'country_name': 'United States',\n",
      "  'country_tld': 'us',\n",
      "  'date_of_birth': '2009-12-01',\n",
      "  'extraversion': -0.18139516880555667,\n",
      "  'id': 2661463106,\n",
      "  'id_str': 'DF8-5MI',\n",
      "  'income': 27245,\n",
      "  'internet': True,\n",
      "  'language': 'English',\n",
      "  'latitude': 37.28873812302055,\n",
      "  'longitude': -97.78608677435732,\n",
      "  'neuroticism': -1.192728508654757,\n",
      "  'openness': -1.4521329064105104,\n",
      "  'religion': 'Roman Catholic',\n",
      "  'sex': 'Female'},\n",
      " {'age': 51,\n",
      "  'agreeableness': 0.8448236618490276,\n",
      "  'conscientiousness': 1.1316367020701534,\n",
      "  'country_name': 'United States',\n",
      "  'country_tld': 'us',\n",
      "  'date_of_birth': '1967-11-22',\n",
      "  'extraversion': 0.616068994469981,\n",
      "  'id': 2773500116,\n",
      "  'id_str': 'ynd-mN9',\n",
      "  'income': 56468,\n",
      "  'internet': True,\n",
      "  'language': 'English',\n",
      "  'latitude': 34.34837327707986,\n",
      "  'longitude': -103.24486180955772,\n",
      "  'neuroticism': -0.23644730838507694,\n",
      "  'openness': 0.4651774443876483,\n",
      "  'religion': 'Protestant',\n",
      "  'sex': 'Male'},\n",
      " {'age': 26,\n",
      "  'agreeableness': 0.24551850831114605,\n",
      "  'conscientiousness': -0.04475861574865503,\n",
      "  'country_name': 'United States',\n",
      "  'country_tld': 'us',\n",
      "  'date_of_birth': '1992-11-27',\n",
      "  'extraversion': -0.03481573596033367,\n",
      "  'id': 2645262023,\n",
      "  'id_str': 'ivn-HCh',\n",
      "  'income': 4094,\n",
      "  'internet': False,\n",
      "  'language': 'English',\n",
      "  'latitude': 38.294028584559896,\n",
      "  'longitude': -95.24010146507352,\n",
      "  'neuroticism': -0.46812698629692184,\n",
      "  'openness': -1.2233406285149233,\n",
      "  'religion': 'Roman Catholic',\n",
      "  'sex': 'Male'},\n",
      " {'age': 90,\n",
      "  'agreeableness': 0.23767226194571064,\n",
      "  'conscientiousness': 0.5757567629411877,\n",
      "  'country_name': 'United States',\n",
      "  'country_tld': 'us',\n",
      "  'date_of_birth': '1928-04-30',\n",
      "  'extraversion': -0.3813547075792181,\n",
      "  'id': 2691536836,\n",
      "  'id_str': 'yaI-3Rf',\n",
      "  'income': 18088,\n",
      "  'internet': True,\n",
      "  'language': 'English',\n",
      "  'latitude': 40.016320337567144,\n",
      "  'longitude': -99.38437269443196,\n",
      "  'neuroticism': 1.2474882187919765,\n",
      "  'openness': -0.43986668815427843,\n",
      "  'religion': 'unaffiliated',\n",
      "  'sex': 'Female'},\n",
      " {'age': 15,\n",
      "  'agreeableness': 0.1856123733401878,\n",
      "  'conscientiousness': -0.14614387960036845,\n",
      "  'country_name': 'United States',\n",
      "  'country_tld': 'us',\n",
      "  'date_of_birth': '2003-08-19',\n",
      "  'extraversion': -0.6923430365534862,\n",
      "  'id': 2864287990,\n",
      "  'id_str': 'YYN-mH8',\n",
      "  'income': 13952,\n",
      "  'internet': True,\n",
      "  'language': 'English',\n",
      "  'latitude': 34.99015640290072,\n",
      "  'longitude': -101.39918989708787,\n",
      "  'neuroticism': 0.1349148486915648,\n",
      "  'openness': 1.6467034372609601,\n",
      "  'religion': 'Roman Catholic',\n",
      "  'sex': 'Female'}]\n",
      "Response Type: <class 'list'>\n"
     ]
    }
   ],
   "source": [
    "# Make the API call/request\n",
    "print(requests.get(query_url))  \n",
    "print()\n",
    "\n",
    "# Retrieving the data\n",
    "data = requests.get(query_url).json()\n",
    "pprint(data)\n",
    "print(f\"Response Type: {type(data)}\")\n",
    "# print(f\"Response Length: {len(data)}\")"
   ]
  },
  {
   "cell_type": "code",
   "execution_count": 5,
   "metadata": {},
   "outputs": [
    {
     "name": "stdout",
     "output_type": "stream",
     "text": [
      "The list of religions from our sample of 5 is:\n",
      "----------------------------------------------\n",
      "\n",
      "Roman Catholic\n",
      "Protestant\n",
      "Roman Catholic\n",
      "unaffiliated\n",
      "Roman Catholic\n"
     ]
    }
   ],
   "source": [
    "# Determine the most prevalent religion for our sample of users\n",
    "###############################################################\n",
    "\n",
    "religion_list = []\n",
    "# print(data[0][\"religion\"]) # For testing purposes only\n",
    "\n",
    "for x in range(num_of_samples):\n",
    "#     print(f\"Processing sample # {x+1}\") # For testing purposes only\n",
    "    religion_list.append(data[x][\"religion\"])\n",
    "\n",
    "print(f\"The list of religions from our sample of {num_of_samples} is:\")\n",
    "print(f\"----------------------------------------------\")\n",
    "print()\n",
    "for rel in religion_list:\n",
    "    print(rel)"
   ]
  },
  {
   "cell_type": "code",
   "execution_count": 6,
   "metadata": {},
   "outputs": [
    {
     "name": "stdout",
     "output_type": "stream",
     "text": [
      "                0\n",
      "0  Roman Catholic\n",
      "1      Protestant\n",
      "2  Roman Catholic\n",
      "3    unaffiliated\n",
      "4  Roman Catholic\n",
      "\n",
      "The count of religions in our sample of 5 is:\n",
      "Roman Catholic    3\n",
      "Protestant        1\n",
      "unaffiliated      1\n",
      "Name: 0, dtype: int64\n"
     ]
    },
    {
     "data": {
      "text/html": [
       "<div>\n",
       "<style scoped>\n",
       "    .dataframe tbody tr th:only-of-type {\n",
       "        vertical-align: middle;\n",
       "    }\n",
       "\n",
       "    .dataframe tbody tr th {\n",
       "        vertical-align: top;\n",
       "    }\n",
       "\n",
       "    .dataframe thead th {\n",
       "        text-align: right;\n",
       "    }\n",
       "</style>\n",
       "<table border=\"1\" class=\"dataframe\">\n",
       "  <thead>\n",
       "    <tr style=\"text-align: right;\">\n",
       "      <th></th>\n",
       "      <th>0</th>\n",
       "    </tr>\n",
       "  </thead>\n",
       "  <tbody>\n",
       "    <tr>\n",
       "      <th>Roman Catholic</th>\n",
       "      <td>3</td>\n",
       "    </tr>\n",
       "    <tr>\n",
       "      <th>Protestant</th>\n",
       "      <td>1</td>\n",
       "    </tr>\n",
       "    <tr>\n",
       "      <th>unaffiliated</th>\n",
       "      <td>1</td>\n",
       "    </tr>\n",
       "  </tbody>\n",
       "</table>\n",
       "</div>"
      ],
      "text/plain": [
       "                0\n",
       "Roman Catholic  3\n",
       "Protestant      1\n",
       "unaffiliated    1"
      ]
     },
     "execution_count": 6,
     "metadata": {},
     "output_type": "execute_result"
    }
   ],
   "source": [
    "religions_df = pd.DataFrame(religion_list)\n",
    "print(religions_df)\n",
    "\n",
    "rel_count = religions_df[0].value_counts(normalize=False, sort=True, ascending=False)\n",
    "print()\n",
    "print(f\"The count of religions in our sample of {num_of_samples} is:\")\n",
    "print(rel_count)\n",
    "\n",
    "rel_count_df = pd.DataFrame(rel_count)\n",
    "rel_count_df"
   ]
  },
  {
   "cell_type": "code",
   "execution_count": 7,
   "metadata": {},
   "outputs": [
    {
     "name": "stdout",
     "output_type": "stream",
     "text": [
      "The list of agreeablenesses from our sample of 5 is:\n",
      "----------------------------------------------------\n",
      "\n",
      "1.2025860118348053\n",
      "0.8448236618490276\n",
      "0.24551850831114605\n",
      "0.23767226194571064\n",
      "0.1856123733401878\n",
      "\n",
      "The average agreeableness of our sample of 5 is 0.54\n"
     ]
    }
   ],
   "source": [
    "# Determine the average agreeableness for our sample of users\n",
    "#############################################################\n",
    "\n",
    "agree_list = []\n",
    "# print(data[0][\"agreeableness\"]) # For testing purposes only\n",
    "\n",
    "for y in range(num_of_samples):\n",
    "#     print(f\"Processing sample # {x+1}\") # For testing purposes only\n",
    "    agree_list.append(data[y][\"agreeableness\"])\n",
    "\n",
    "print(f\"The list of agreeablenesses from our sample of {num_of_samples} is:\")\n",
    "print(f\"----------------------------------------------------\")\n",
    "print()\n",
    "for w in agree_list:\n",
    "    print(w)\n",
    "print()\n",
    "avg_agree = np.mean(agree_list)\n",
    "avg_agree = format(avg_agree, '.2f')\n",
    "print(f\"The average agreeableness of our sample of {num_of_samples} is {avg_agree}\")"
   ]
  },
  {
   "cell_type": "code",
   "execution_count": 8,
   "metadata": {},
   "outputs": [
    {
     "name": "stdout",
     "output_type": "stream",
     "text": [
      "The list of neuroticism from our sample of 5 is:\n",
      "------------------------------------------------\n",
      "\n",
      "-1.192728508654757\n",
      "-0.23644730838507694\n",
      "-0.46812698629692184\n",
      "1.2474882187919765\n",
      "0.1349148486915648\n",
      "\n",
      "The range of neuroticism from our sample of 5 is 2.44 (from -1.19 to 1.25)\n"
     ]
    }
   ],
   "source": [
    "# Calculate the range of neuroticism for your set of users\n",
    "##########################################################\n",
    "\n",
    "neuro_list = []\n",
    "# print(data[0][\"neuroticism\"]) # For testing purposes only\n",
    "\n",
    "for z in range(num_of_samples):\n",
    "#     print(f\"Processing sample # {x+1}\") # For testing purposes only\n",
    "    neuro_list.append(data[z][\"neuroticism\"])\n",
    "\n",
    "print(f\"The list of neuroticism from our sample of {num_of_samples} is:\")\n",
    "print(f\"------------------------------------------------\")\n",
    "print()\n",
    "for xx in neuro_list:\n",
    "    print(xx)\n",
    "print()\n",
    "\n",
    "# Calculate the range of neuroticism\n",
    "neuro_df = pd.DataFrame(neuro_list)\n",
    "# print(neuro_df) # For testing purposes only\n",
    "min_neuro = neuro_df.min()\n",
    "max_neuro = neuro_df.max()\n",
    "neuro_range = list(max_neuro - min_neuro)\n",
    "neuro_range\n",
    "for x1 in min_neuro:\n",
    "    min = format(x1, ',.2f')\n",
    "for x2 in max_neuro:\n",
    "    max = format(x2, ',.2f')    \n",
    "for x3 in neuro_range:\n",
    "    range = format(x3, ',.2f')\n",
    "    print(f\"The range of neuroticism from our sample of {num_of_samples} is {range} (from {min} to {max})\")"
   ]
  },
  {
   "cell_type": "code",
   "execution_count": 9,
   "metadata": {},
   "outputs": [
    {
     "ename": "TypeError",
     "evalue": "'str' object is not callable",
     "output_type": "error",
     "traceback": [
      "\u001b[1;31m---------------------------------------------------------------------------\u001b[0m",
      "\u001b[1;31mTypeError\u001b[0m                                 Traceback (most recent call last)",
      "\u001b[1;32m<ipython-input-9-861223570fd0>\u001b[0m in \u001b[0;36m<module>\u001b[1;34m()\u001b[0m\n\u001b[0;32m      7\u001b[0m \u001b[1;31m# print(data[0][\"date_of_birth\"]) # For testing purposes only\u001b[0m\u001b[1;33m\u001b[0m\u001b[1;33m\u001b[0m\u001b[0m\n\u001b[0;32m      8\u001b[0m \u001b[1;33m\u001b[0m\u001b[0m\n\u001b[1;32m----> 9\u001b[1;33m \u001b[1;32mfor\u001b[0m \u001b[0mquantity\u001b[0m \u001b[1;32min\u001b[0m \u001b[0mrange\u001b[0m\u001b[1;33m(\u001b[0m\u001b[0mnum_of_samples\u001b[0m\u001b[1;33m)\u001b[0m\u001b[1;33m:\u001b[0m\u001b[1;33m\u001b[0m\u001b[0m\n\u001b[0m\u001b[0;32m     10\u001b[0m     \u001b[0mdob_list\u001b[0m\u001b[1;33m.\u001b[0m\u001b[0mappend\u001b[0m\u001b[1;33m(\u001b[0m\u001b[0mdata\u001b[0m\u001b[1;33m[\u001b[0m\u001b[0mquantity\u001b[0m\u001b[1;33m]\u001b[0m\u001b[1;33m[\u001b[0m\u001b[1;34m\"date_of_birth\"\u001b[0m\u001b[1;33m]\u001b[0m\u001b[1;33m)\u001b[0m\u001b[1;33m\u001b[0m\u001b[0m\n\u001b[0;32m     11\u001b[0m \u001b[1;33m\u001b[0m\u001b[0m\n",
      "\u001b[1;31mTypeError\u001b[0m: 'str' object is not callable"
     ]
    }
   ],
   "source": [
    "# Calculate the ages of each one in our sample of 5 and determine the range of ages\n",
    "###################################################################################\n",
    "\n",
    "# Put all dates of birth for our sample in a list/data frame\n",
    "\n",
    "dob_list = []\n",
    "# print(data[0][\"date_of_birth\"]) # For testing purposes only\n",
    "\n",
    "for quantity in range(num_of_samples):\n",
    "#    print(f\"Processing sample # {x+1}\") # For testing purposes only\n",
    "    dob_list.append(data[quantity][\"date_of_birth\"])\n",
    "\n",
    "print(f\"The list of birth dates from our sample of {num_of_samples} is:\")\n",
    "print(f\"------------------------------------------------\")\n",
    "print()\n",
    "for dob in dob_list:\n",
    "    print(dob)"
   ]
  },
  {
   "cell_type": "code",
   "execution_count": 10,
   "metadata": {},
   "outputs": [
    {
     "name": "stdout",
     "output_type": "stream",
     "text": [
      "Today is 2018-12-26\n",
      "Today is year 2018\n",
      "Today is month 12\n",
      "Today is day 26\n"
     ]
    }
   ],
   "source": [
    "# Get today's date\n",
    "\n",
    "now = datetime.datetime.now()\n",
    "today = f\"{now.year}-{now.month}-{now.day}\"\n",
    "print(f\"Today is {today}\")\n",
    "today_year = today[0:4]\n",
    "print(f\"Today is year {today_year}\")\n",
    "today_month = today[5:-3]\n",
    "print(f\"Today is month {today_month}\")\n",
    "today_day = today[8:]\n",
    "print(f\"Today is day {today_day}\")\n",
    "today_year = pd.to_numeric(today_year)\n",
    "today_month = pd.to_numeric(today_month)\n",
    "today_day = pd.to_numeric(today_day)"
   ]
  },
  {
   "cell_type": "code",
   "execution_count": null,
   "metadata": {},
   "outputs": [],
   "source": [
    "# Calculate our sample's ages and put them in a list/data frame\n",
    "\n",
    "ages_list = []\n",
    "for sampdob in dob_list:\n",
    "    birth_year = sampdob[0:4]\n",
    "    birth_month = sampdob[5:-3]\n",
    "    birth_day = sampdob[8:]\n",
    "#     print(f\"The birth year is {birth_year}\")\n",
    "#     print(f\"The birth month is {birth_month}\")\n",
    "#     print(f\"The birth day is {birth_day}\")\n",
    "    birth_year = pd.to_numeric(birth_year)\n",
    "    birth_month = pd.to_numeric(birth_month)\n",
    "    birth_day = pd.to_numeric(birth_day)\n",
    "    age_year = today_year - birth_year\n",
    "    if birth_month >= today_month & birth_day >= today_day:\n",
    "        age_year += 1\n",
    "    ages_list.append(age_year)\n",
    "# print(ages_list)\n",
    "print(f\"The ages of our sample of {num_of_samples} are as follows:\")\n",
    "print()\n",
    "for ages in ages_list:\n",
    "    print(ages)"
   ]
  },
  {
   "cell_type": "code",
   "execution_count": null,
   "metadata": {},
   "outputs": [],
   "source": [
    "# Calculate the range of ages of our sample\n",
    "\n",
    "ages_df = pd.DataFrame(ages_list)\n",
    "# print(neuro_df) # For testing purposes only\n",
    "min_age = ages_df.min()\n",
    "max_age = ages_df.max()\n",
    "age_range = list(max_age - min_age)\n",
    "# age_range\n",
    "for x9 in min_age:\n",
    "    min = format(x9, ',')\n",
    "for x8 in max_age:\n",
    "    max = format(x8, ',')    \n",
    "for x7 in age_range:\n",
    "    range = format(x7, ',')\n",
    "    print(f\"The range of ages from our sample of {num_of_samples} is {range} (from {min} to {max})\")"
   ]
  }
 ],
 "metadata": {
  "kernelspec": {
   "display_name": "Python 3",
   "language": "python",
   "name": "python3"
  },
  "language_info": {
   "codemirror_mode": {
    "name": "ipython",
    "version": 3
   },
   "file_extension": ".py",
   "mimetype": "text/x-python",
   "name": "python",
   "nbconvert_exporter": "python",
   "pygments_lexer": "ipython3",
   "version": "3.7.0"
  }
 },
 "nbformat": 4,
 "nbformat_minor": 2
}
