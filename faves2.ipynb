{
 "cells": [
  {
   "cell_type": "code",
   "execution_count": 32,
   "metadata": {},
   "outputs": [
    {
     "name": "stdout",
     "output_type": "stream",
     "text": [
      "My favorite_movie is: The Thin Man\n",
      "My favorite_song is: Layla by Derek & The Dominos\n",
      "My favorite_food is: Pizza\n"
     ]
    }
   ],
   "source": [
    "faves={\"favorite_movie\" : \"The Thin Man\",\n",
    "      \"favorite_song\" : \"Layla by Derek & The Dominos\",\n",
    "      \"favorite_food\" : \"Pizza\"}\n",
    "for item in faves:\n",
    "        print(f\"My {item} is: {faves[item]}\")"
   ]
  },
  {
   "cell_type": "code",
   "execution_count": 33,
   "metadata": {},
   "outputs": [
    {
     "name": "stdout",
     "output_type": "stream",
     "text": [
      "My least_favorite_movie is: Star Wars\n",
      "My least_favorite_song is: anything rap\n",
      "My least_favorite_food is: anything with hot peppers\n"
     ]
    }
   ],
   "source": [
    "unfaves={\"least_favorite_movie\" : \"Star Wars\",\n",
    "      \"least_favorite_song\" : \"anything rap\",\n",
    "      \"least_favorite_food\" : \"anything with hot peppers\"}\n",
    "for itemy in unfaves:\n",
    "        print(f\"My {itemy} is: {unfaves[itemy]}\")"
   ]
  },
  {
   "cell_type": "code",
   "execution_count": 34,
   "metadata": {},
   "outputs": [
    {
     "data": {
      "text/plain": [
       "[{'favorite_movie': 'The Thin Man',\n",
       "  'favorite_song': 'Layla by Derek & The Dominos',\n",
       "  'favorite_food': 'Pizza'},\n",
       " {'least_favorite_movie': 'Star Wars',\n",
       "  'least_favorite_song': 'anything rap',\n",
       "  'least_favorite_food': 'anything with hot peppers'}]"
      ]
     },
     "execution_count": 34,
     "metadata": {},
     "output_type": "execute_result"
    }
   ],
   "source": [
    "my_list = [faves, unfaves]\n",
    "my_list"
   ]
  },
  {
   "cell_type": "code",
   "execution_count": 35,
   "metadata": {},
   "outputs": [],
   "source": [
    "def print_dict(dict_name):\n",
    "    print(f\"My favorite movie is {dict_name[0]['favorite_movie']}\") # 0 accesses the 1st dictionary in the list\n",
    "    print(f\"My favorite song is {dict_name[0]['favorite_song']}\")   # 0 accesses the 1st dictionary in the list\n",
    "    print(f\"My favorite food is {dict_name[0]['favorite_food']}\")   # 0 accesses the 1st dictionary in the list\n",
    "    print(f\"My least favorite movie is {dict_name[1]['least_favorite_movie']}\") # 1 accesses the 2nd dictionary in the list\n",
    "    print(f\"My least favorite song is {dict_name[1]['least_favorite_song']}\")   # 1 accesses the 2nd dictionary in the list\n",
    "    print(f\"My least favorite food is {dict_name[1]['least_favorite_food']}\")   # 1 accesses the 2nd dictionary in the list"
   ]
  },
  {
   "cell_type": "code",
   "execution_count": 36,
   "metadata": {},
   "outputs": [
    {
     "name": "stdout",
     "output_type": "stream",
     "text": [
      "My favorite movie is The Thin Man\n",
      "My favorite song is Layla by Derek & The Dominos\n",
      "My favorite food is Pizza\n",
      "My least favorite movie is Star Wars\n",
      "My least favorite song is anything rap\n",
      "My least favorite food is anything with hot peppers\n"
     ]
    }
   ],
   "source": [
    "print_dict(my_list)"
   ]
  }
 ],
 "metadata": {
  "kernelspec": {
   "display_name": "Python 3",
   "language": "python",
   "name": "python3"
  },
  "language_info": {
   "codemirror_mode": {
    "name": "ipython",
    "version": 3
   },
   "file_extension": ".py",
   "mimetype": "text/x-python",
   "name": "python",
   "nbconvert_exporter": "python",
   "pygments_lexer": "ipython3",
   "version": "3.7.0"
  }
 },
 "nbformat": 4,
 "nbformat_minor": 2
}
