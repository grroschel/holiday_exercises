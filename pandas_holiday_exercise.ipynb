{
 "cells": [
  {
   "cell_type": "markdown",
   "metadata": {},
   "source": [
    "Holiday Exercises from Trilogy\n",
    "--------------------------------------------"
   ]
  },
  {
   "cell_type": "markdown",
   "metadata": {},
   "source": [
    "Pandas Begins Here:\n",
    "-----------------------------"
   ]
  },
  {
   "cell_type": "code",
   "execution_count": 255,
   "metadata": {},
   "outputs": [],
   "source": [
    "# Dependencies\n",
    "import pandas as pd\n",
    "import matplotlib.pyplot as plt\n",
    "import numpy as np"
   ]
  },
  {
   "cell_type": "code",
   "execution_count": 3,
   "metadata": {},
   "outputs": [],
   "source": [
    "# Our Dictionary\n",
    "food_dict = [{\n",
    "    \"shelf\": 3,\n",
    "    \"rack\": 1,\n",
    "    \"item\": \"sketchy banana\",\n",
    "    \"inventory\":1,\n",
    "    \"price\": 1\n",
    "},{\n",
    "    \"shelf\": 2,\n",
    "    \"rack\": 4,\n",
    "    \"item\": \"lone bacon slice\",\n",
    "    \"inventory\":1,\n",
    "    \"price\":2\n",
    "},{\n",
    "    \"shelf\": 5,\n",
    "    \"rack\": 3,\n",
    "    \"item\": \"holiday cheer\",\n",
    "    \"inventory\":20,\n",
    "    \"price\":5.10\n",
    "},{\n",
    "    \"shelf\": 2,\n",
    "    \"rack\": 1,\n",
    "    \"item\": \"empirical pineapple\",\n",
    "    \"inventory\":11,\n",
    "    \"price\":3\n",
    "},{\n",
    "    \"shelf\": 2,\n",
    "    \"rack\": 2,\n",
    "    \"item\": \"lone bacon slice\",\n",
    "    \"inventory\":1,\n",
    "    \"price\":2  \n",
    "},{\n",
    "    \"shelf\": 3,\n",
    "    \"rack\": 1,\n",
    "    \"item\": \"kosher pepper\",\n",
    "    \"inventory\":2,\n",
    "    \"price\": 2.30\n",
    "},{\n",
    "    \"shelf\": 3,\n",
    "    \"rack\": 2,\n",
    "    \"item\": \"kosher pepper\",\n",
    "    \"inventory\":2,\n",
    "    \"price\": \"ducky\"\n",
    "}]"
   ]
  },
  {
   "cell_type": "code",
   "execution_count": 19,
   "metadata": {},
   "outputs": [
    {
     "data": {
      "text/html": [
       "<div>\n",
       "<style scoped>\n",
       "    .dataframe tbody tr th:only-of-type {\n",
       "        vertical-align: middle;\n",
       "    }\n",
       "\n",
       "    .dataframe tbody tr th {\n",
       "        vertical-align: top;\n",
       "    }\n",
       "\n",
       "    .dataframe thead th {\n",
       "        text-align: right;\n",
       "    }\n",
       "</style>\n",
       "<table border=\"1\" class=\"dataframe\">\n",
       "  <thead>\n",
       "    <tr style=\"text-align: right;\">\n",
       "      <th></th>\n",
       "      <th>inventory</th>\n",
       "      <th>item</th>\n",
       "      <th>price</th>\n",
       "      <th>rack</th>\n",
       "      <th>shelf</th>\n",
       "    </tr>\n",
       "  </thead>\n",
       "  <tbody>\n",
       "    <tr>\n",
       "      <th>0</th>\n",
       "      <td>1</td>\n",
       "      <td>sketchy banana</td>\n",
       "      <td>1</td>\n",
       "      <td>1</td>\n",
       "      <td>3</td>\n",
       "    </tr>\n",
       "    <tr>\n",
       "      <th>1</th>\n",
       "      <td>1</td>\n",
       "      <td>lone bacon slice</td>\n",
       "      <td>2</td>\n",
       "      <td>4</td>\n",
       "      <td>2</td>\n",
       "    </tr>\n",
       "    <tr>\n",
       "      <th>2</th>\n",
       "      <td>20</td>\n",
       "      <td>holiday cheer</td>\n",
       "      <td>5.1</td>\n",
       "      <td>3</td>\n",
       "      <td>5</td>\n",
       "    </tr>\n",
       "    <tr>\n",
       "      <th>3</th>\n",
       "      <td>11</td>\n",
       "      <td>empirical pineapple</td>\n",
       "      <td>3</td>\n",
       "      <td>1</td>\n",
       "      <td>2</td>\n",
       "    </tr>\n",
       "    <tr>\n",
       "      <th>4</th>\n",
       "      <td>1</td>\n",
       "      <td>lone bacon slice</td>\n",
       "      <td>2</td>\n",
       "      <td>2</td>\n",
       "      <td>2</td>\n",
       "    </tr>\n",
       "    <tr>\n",
       "      <th>5</th>\n",
       "      <td>2</td>\n",
       "      <td>kosher pepper</td>\n",
       "      <td>2.3</td>\n",
       "      <td>1</td>\n",
       "      <td>3</td>\n",
       "    </tr>\n",
       "    <tr>\n",
       "      <th>6</th>\n",
       "      <td>2</td>\n",
       "      <td>kosher pepper</td>\n",
       "      <td>ducky</td>\n",
       "      <td>2</td>\n",
       "      <td>3</td>\n",
       "    </tr>\n",
       "  </tbody>\n",
       "</table>\n",
       "</div>"
      ],
      "text/plain": [
       "   inventory                 item  price  rack  shelf\n",
       "0          1       sketchy banana      1     1      3\n",
       "1          1     lone bacon slice      2     4      2\n",
       "2         20        holiday cheer    5.1     3      5\n",
       "3         11  empirical pineapple      3     1      2\n",
       "4          1     lone bacon slice      2     2      2\n",
       "5          2        kosher pepper    2.3     1      3\n",
       "6          2        kosher pepper  ducky     2      3"
      ]
     },
     "execution_count": 19,
     "metadata": {},
     "output_type": "execute_result"
    }
   ],
   "source": [
    "# Create a Pandas Data Frame\n",
    "food_df = pd.DataFrame(food_dict)\n",
    "food_df"
   ]
  },
  {
   "cell_type": "code",
   "execution_count": 327,
   "metadata": {},
   "outputs": [
    {
     "data": {
      "text/html": [
       "<div>\n",
       "<style scoped>\n",
       "    .dataframe tbody tr th:only-of-type {\n",
       "        vertical-align: middle;\n",
       "    }\n",
       "\n",
       "    .dataframe tbody tr th {\n",
       "        vertical-align: top;\n",
       "    }\n",
       "\n",
       "    .dataframe thead th {\n",
       "        text-align: right;\n",
       "    }\n",
       "</style>\n",
       "<table border=\"1\" class=\"dataframe\">\n",
       "  <thead>\n",
       "    <tr style=\"text-align: right;\">\n",
       "      <th></th>\n",
       "      <th>inventory</th>\n",
       "      <th>item</th>\n",
       "      <th>price</th>\n",
       "      <th>rack</th>\n",
       "      <th>shelf</th>\n",
       "    </tr>\n",
       "  </thead>\n",
       "  <tbody>\n",
       "    <tr>\n",
       "      <th>0</th>\n",
       "      <td>1</td>\n",
       "      <td>sketchy banana</td>\n",
       "      <td>1</td>\n",
       "      <td>1</td>\n",
       "      <td>3</td>\n",
       "    </tr>\n",
       "    <tr>\n",
       "      <th>1</th>\n",
       "      <td>1</td>\n",
       "      <td>lone bacon slice</td>\n",
       "      <td>2</td>\n",
       "      <td>4</td>\n",
       "      <td>2</td>\n",
       "    </tr>\n",
       "    <tr>\n",
       "      <th>2</th>\n",
       "      <td>20</td>\n",
       "      <td>holiday cheer</td>\n",
       "      <td>5.1</td>\n",
       "      <td>3</td>\n",
       "      <td>5</td>\n",
       "    </tr>\n",
       "    <tr>\n",
       "      <th>3</th>\n",
       "      <td>11</td>\n",
       "      <td>empirical pineapple</td>\n",
       "      <td>3</td>\n",
       "      <td>1</td>\n",
       "      <td>2</td>\n",
       "    </tr>\n",
       "    <tr>\n",
       "      <th>4</th>\n",
       "      <td>1</td>\n",
       "      <td>lone bacon slice</td>\n",
       "      <td>2</td>\n",
       "      <td>2</td>\n",
       "      <td>2</td>\n",
       "    </tr>\n",
       "    <tr>\n",
       "      <th>5</th>\n",
       "      <td>2</td>\n",
       "      <td>kosher pepper</td>\n",
       "      <td>2.3</td>\n",
       "      <td>1</td>\n",
       "      <td>3</td>\n",
       "    </tr>\n",
       "    <tr>\n",
       "      <th>6</th>\n",
       "      <td>2</td>\n",
       "      <td>kosher pepper</td>\n",
       "      <td>2.3</td>\n",
       "      <td>2</td>\n",
       "      <td>3</td>\n",
       "    </tr>\n",
       "  </tbody>\n",
       "</table>\n",
       "</div>"
      ],
      "text/plain": [
       "   inventory                 item price  rack  shelf\n",
       "0          1       sketchy banana     1     1      3\n",
       "1          1     lone bacon slice     2     4      2\n",
       "2         20        holiday cheer   5.1     3      5\n",
       "3         11  empirical pineapple     3     1      2\n",
       "4          1     lone bacon slice     2     2      2\n",
       "5          2        kosher pepper   2.3     1      3\n",
       "6          2        kosher pepper   2.3     2      3"
      ]
     },
     "execution_count": 327,
     "metadata": {},
     "output_type": "execute_result"
    }
   ],
   "source": [
    "# Correct the price of 1 kosher pepper\n",
    "food_df.iloc[6, 2] = 2.3\n",
    "food_df"
   ]
  },
  {
   "cell_type": "code",
   "execution_count": 212,
   "metadata": {},
   "outputs": [
    {
     "name": "stdout",
     "output_type": "stream",
     "text": [
      "Empty Shelves:\n",
      "--------------\n",
      "\n",
      "0    3\n",
      "1    2\n",
      "2    5\n",
      "3    2\n",
      "4    2\n",
      "5    3\n",
      "6    3\n",
      "Name: shelf, dtype: int64\n",
      "\n",
      "Processing shelf # 1\n",
      "Shelf # 1 not found in list\n",
      "Processing shelf # 2\n",
      "Processing shelf # 3\n",
      "Processing shelf # 4\n",
      "Shelf # 4 not found in list\n",
      "Processing shelf # 5\n",
      "\n",
      "[1, 4]\n",
      "\n",
      "The following shelf numbers are not being used:\n",
      "-----------------------------------------------\n",
      "1\n",
      "4\n"
     ]
    }
   ],
   "source": [
    "# Empty shelves\n",
    "print(\"Empty Shelves:\")\n",
    "print(\"--------------\")\n",
    "print()\n",
    "print(food_df[\"shelf\"])\n",
    "print()\n",
    "not_shelves = []\n",
    "for shelf_num in range(5):\n",
    "    print(f\"Processing shelf # {shelf_num+1}\")\n",
    "    if (shelf_num+1) not in food_df[\"shelf\"].unique():\n",
    "        print(f\"Shelf # {shelf_num+1} not found in list\")\n",
    "        not_shelves.append(shelf_num+1)\n",
    "print()\n",
    "print(not_shelves)\n",
    "print()\n",
    "print(\"The following shelf numbers are not being used:\")\n",
    "print(\"-----------------------------------------------\")\n",
    "for x in not_shelves:\n",
    "    print(x)"
   ]
  },
  {
   "cell_type": "code",
   "execution_count": 213,
   "metadata": {},
   "outputs": [
    {
     "name": "stdout",
     "output_type": "stream",
     "text": [
      "Empty Racks:\n",
      "------------\n",
      "\n",
      "0    1\n",
      "1    4\n",
      "2    3\n",
      "3    1\n",
      "4    2\n",
      "5    1\n",
      "6    2\n",
      "Name: rack, dtype: int64\n",
      "\n",
      "Processing rack # 1\n",
      "Processing rack # 2\n",
      "Processing rack # 3\n",
      "Processing rack # 4\n",
      "Processing rack # 5\n",
      "Rack # 5 not found in list\n",
      "\n",
      "[5]\n",
      "\n",
      "The following rack numbers are not being used:\n",
      "----------------------------------------------\n",
      "5\n"
     ]
    }
   ],
   "source": [
    "# Empty racks\n",
    "print(\"Empty Racks:\")\n",
    "print(\"------------\")\n",
    "print()\n",
    "print(food_df[\"rack\"])\n",
    "print()\n",
    "not_racks = []\n",
    "for rack_num in range(5):\n",
    "    print(f\"Processing rack # {rack_num+1}\")\n",
    "    if (rack_num+1) not in food_df[\"rack\"].unique():\n",
    "        print(f\"Rack # {rack_num+1} not found in list\")\n",
    "        not_racks.append(rack_num+1)\n",
    "print()\n",
    "print(not_racks)\n",
    "print()\n",
    "print(\"The following rack numbers are not being used:\")\n",
    "print(\"----------------------------------------------\")\n",
    "for x in not_racks:\n",
    "    print(x)"
   ]
  },
  {
   "cell_type": "code",
   "execution_count": 215,
   "metadata": {},
   "outputs": [
    {
     "name": "stdout",
     "output_type": "stream",
     "text": [
      "Rows with low iventory (< 5 in inventory):\n",
      "------------------------------------------\n",
      "\n",
      "   inventory              item price  rack  shelf\n",
      "0          1    sketchy banana     1     1      3\n",
      "1          1  lone bacon slice     2     4      2\n",
      "4          1  lone bacon slice     2     2      2\n",
      "5          2     kosher pepper   2.3     1      3\n",
      "6          2     kosher pepper  6.69     2      3\n"
     ]
    }
   ],
   "source": [
    "# Select all rows with Low inventory, < 5 items\n",
    "print(\"Rows with low iventory (< 5 in inventory):\")\n",
    "print(\"------------------------------------------\")\n",
    "print()\n",
    "low_inv = food_df.loc[food_df[\"inventory\"] < 5]\n",
    "print(low_inv)"
   ]
  },
  {
   "cell_type": "code",
   "execution_count": 251,
   "metadata": {},
   "outputs": [
    {
     "name": "stdout",
     "output_type": "stream",
     "text": [
      "Groupby item for individual item inventory counts:\n",
      "--------------------------------------------------\n",
      "\n",
      "                     Item Total Inventory Count\n",
      "item                                           \n",
      "empirical pineapple                          11\n",
      "holiday cheer                                20\n",
      "kosher pepper                                 4\n",
      "lone bacon slice                              2\n",
      "sketchy banana                                1\n",
      "\n",
      "Total number of items in inventory is 38\n"
     ]
    }
   ],
   "source": [
    "# Groupby item for item inventory counts\n",
    "print(\"Groupby item for individual item inventory counts:\")\n",
    "print(\"--------------------------------------------------\")\n",
    "print()\n",
    "items_grouped = food_df.groupby([\"item\"])\n",
    "item_inv = pd.DataFrame(items_grouped[\"inventory\"].sum())\n",
    "item_inv = item_inv.rename(columns={\"inventory\" : \"Item Total Inventory Count\"})\n",
    "print(item_inv)\n",
    "print()\n",
    "print(f\"Total number of items in inventory is {item_inv['Item Total Inventory Count'].sum()}\")"
   ]
  },
  {
   "cell_type": "code",
   "execution_count": 195,
   "metadata": {},
   "outputs": [
    {
     "name": "stdout",
     "output_type": "stream",
     "text": [
      "The total number of items in inventory is 38\n"
     ]
    }
   ],
   "source": [
    "# Total number of items in inventory\n",
    "# tot_inv = food_df[\"inventory\"].sum()\n",
    "# print(f\"The total number of items in inventory is {tot_inv}\")\n",
    "\n",
    "# WHY DOES THE STATEMENT BELOW GET INVALID SYNTAX WITH DOUBLE QUOTES AROUND INVENTORY? BECAUSE IT'S IN A PRINT F STRING\n",
    "# WHICH USES DOUBLE QUOTES\n",
    "print(f\"The total number of items in inventory is {food_df['inventory'].sum()}\")"
   ]
  },
  {
   "cell_type": "code",
   "execution_count": 108,
   "metadata": {},
   "outputs": [
    {
     "name": "stdout",
     "output_type": "stream",
     "text": [
      "The total value of all items in inventory is $157.98\n"
     ]
    }
   ],
   "source": [
    "# Total value of items in inventory\n",
    "total_value = (food_df[\"inventory\"] * food_df[\"price\"])\n",
    "print(f\"The total value of all items in inventory is ${total_value.sum()}\")"
   ]
  },
  {
   "cell_type": "markdown",
   "metadata": {},
   "source": [
    "Matplotlib Begins Here:\n",
    "---------------------------------"
   ]
  },
  {
   "cell_type": "code",
   "execution_count": 398,
   "metadata": {},
   "outputs": [
    {
     "name": "stdout",
     "output_type": "stream",
     "text": [
      "Groupby rack & shelf for number of items on each shelf:\n",
      "-------------------------------------------------------\n",
      "\n",
      "            inventory\n",
      "rack shelf           \n",
      "1    2             11\n",
      "     3              3\n",
      "2    2              1\n",
      "     3              2\n",
      "3    5             20\n",
      "4    2              1\n",
      "\n",
      "            inventory  rack  shelf\n",
      "rack shelf                        \n",
      "1    2             11     1      2\n",
      "     3              3     1      3\n",
      "2    2              1     2      2\n",
      "     3              2     2      3\n",
      "3    5             20     3      5\n",
      "4    2              1     4      2\n",
      "\n",
      "Rack list = [1, 1, 2, 2, 3, 4]\n",
      "Shelf list = [2, 3, 2, 3, 5, 2]\n",
      "\n",
      "Rack-Shelf 1_2 defined\n",
      "Rack-Shelf 1_3 defined\n",
      "Rack-Shelf 2_2 defined\n",
      "Rack-Shelf 2_3 defined\n",
      "Rack-Shelf 3_5 defined\n",
      "Rack-Shelf 4_2 defined\n",
      "\n",
      "The Rack_Shelf list is as follows: ['1_2', '1_3', '2_2', '2_3', '3_5', '4_2']\n"
     ]
    },
    {
     "data": {
      "image/png": "[encoded data removed]",
      "text/plain": [
       "<Figure size 576x288 with 1 Axes>"
      ]
     },
     "metadata": {
      "needs_background": "light"
     },
     "output_type": "display_data"
    }
   ],
   "source": [
    "# Groupby item in prep for plot of number of items on each shelf (rack_shelf)\n",
    "print(\"Groupby rack & shelf for number of items on each shelf:\")\n",
    "print(\"-------------------------------------------------------\")\n",
    "print()\n",
    "rs_grouped = food_df.groupby([\"rack\", \"shelf\"])\n",
    "rs_inv = pd.DataFrame(rs_grouped[\"inventory\"].sum())\n",
    "print(rs_inv)\n",
    "print()\n",
    "rs_inv_copy = rs_inv.copy()\n",
    "rs_inv_copy[\"rack\"] = rs_grouped[\"rack\"].first()\n",
    "rs_inv_copy[\"shelf\"] = rs_grouped[\"shelf\"].first()\n",
    "print(rs_inv_copy)\n",
    "print()\n",
    "\n",
    "# Create unique rack-shelf numbers\n",
    "rack_list = list(rs_inv_copy[\"rack\"])\n",
    "shelf_list = list(rs_inv_copy[\"shelf\"])\n",
    "print(f\"Rack list = {rack_list}\")\n",
    "print(f\"Shelf list = {shelf_list}\")\n",
    "print()\n",
    "\n",
    "r_s_list = []\n",
    "for num in range(len(rack_list)):\n",
    "    r_s = (f\"{rack_list[num]}_{shelf_list[num]}\")\n",
    "    print(f\"Rack-Shelf {r_s} defined\")\n",
    "    r_s_list.append(r_s)\n",
    "print()\n",
    "print(f\"The Rack_Shelf list is as follows: {r_s_list}\")\n",
    "\n",
    "# Plot the number of items on each rack_shelf\n",
    "\n",
    "# Set size of graph\n",
    "plt.figure(figsize=(8,4))\n",
    "\n",
    "x_axis = np.arange(len(r_s_list))\n",
    "\n",
    "plt.xticks(x_axis, r_s_list) \n",
    "\n",
    "# Set x and y limits\n",
    "plt.xlim(-0.75, len(x_axis)-0.25) \n",
    "plt.ylim(0, max(rack_inv_copy[\"inventory\"]*1.05)) \n",
    "\n",
    "# plt.tight_layout()\n",
    "\n",
    "# Generate the bar graph\n",
    "plt.bar(x=x_axis, height=rs_inv_copy[\"inventory\"], color='blue', alpha=0.5, align=\"center\")\n",
    "\n",
    "# Set a Title and labels\n",
    "plt.title(\"Number of Items on Each Rack_Shelf\", pad=15, fontsize=18)\n",
    "plt.xlabel(\"Rack_Shelf Number (r_s)\", fontsize=12)\n",
    "plt.ylabel(\"Number of Items\", fontsize=12) \n",
    "\n",
    "# Save our graph and show the graph\n",
    "plt.savefig(\"number_of_items_on_each_shelf.png\")\n",
    "plt.show()"
   ]
  },
  {
   "cell_type": "code",
   "execution_count": 375,
   "metadata": {},
   "outputs": [
    {
     "name": "stdout",
     "output_type": "stream",
     "text": [
      "Groupby rack for number of items on each rack:\n",
      "----------------------------------------------\n",
      "\n",
      "      inventory\n",
      "rack           \n",
      "1            14\n",
      "2             3\n",
      "3            20\n",
      "4             1\n",
      "\n",
      "      inventory  rack\n",
      "rack                 \n",
      "1            14     1\n",
      "2             3     2\n",
      "3            20     3\n",
      "4             1     4\n"
     ]
    },
    {
     "data": {
      "image/png": "[encoded data removed]",
      "text/plain": [
       "<Figure size 576x288 with 1 Axes>"
      ]
     },
     "metadata": {
      "needs_background": "light"
     },
     "output_type": "display_data"
    }
   ],
   "source": [
    "# Groupby rack in prep for plot of number of items on each rack\n",
    "print(\"Groupby rack for number of items on each rack:\")\n",
    "print(\"----------------------------------------------\")\n",
    "print()\n",
    "rack_grouped = food_df.groupby([\"rack\"])\n",
    "rack_inv = pd.DataFrame(rack_grouped[\"inventory\"].sum())\n",
    "print(rack_inv)\n",
    "print()\n",
    "rack_inv_copy = rack_inv.copy()\n",
    "rack_inv_copy[\"rack\"] = rack_grouped[\"rack\"].first()\n",
    "print(rack_inv_copy)\n",
    "\n",
    "# Plot the number of items on each rack\n",
    "\n",
    "# Set size of graph\n",
    "plt.figure(figsize=(8,4))\n",
    "\n",
    "x_axis = np.arange(len(rack_inv_copy[\"rack\"]))\n",
    "\n",
    "plt.xticks(x_axis, rack_inv_copy[\"rack\"]) \n",
    "\n",
    "# Set x and y limits\n",
    "plt.xlim(-0.75, len(x_axis)-0.25) \n",
    "plt.ylim(0, max(rack_inv_copy[\"inventory\"]*1.05)) \n",
    "\n",
    "# plt.tight_layout()\n",
    "\n",
    "# Generate the bar graph\n",
    "plt.bar(x=x_axis, height=rack_inv_copy[\"inventory\"], color='blue', alpha=0.5, align=\"center\")\n",
    "\n",
    "# Set a Title and labels\n",
    "plt.title(\"Number of Items on Each Rack\", pad=15, fontsize=18)\n",
    "plt.xlabel(\"Rack\", fontsize=12)\n",
    "plt.ylabel(\"Number of Items\", fontsize=12) \n",
    "\n",
    "# Save our graph and show the graph\n",
    "plt.savefig(\"number_of_items_on_each_rack.png\")\n",
    "plt.show()"
   ]
  },
  {
   "cell_type": "code",
   "execution_count": 376,
   "metadata": {},
   "outputs": [
    {
     "name": "stdout",
     "output_type": "stream",
     "text": [
      "                     Item Total Inventory Count\n",
      "item                                           \n",
      "empirical pineapple                          11\n",
      "holiday cheer                                20\n",
      "kosher pepper                                 4\n",
      "lone bacon slice                              2\n",
      "sketchy banana                                1\n",
      "\n",
      "                     Item Total Inventory Count                 item\n",
      "item                                                                \n",
      "empirical pineapple                          11  empirical pineapple\n",
      "holiday cheer                                20        holiday cheer\n",
      "kosher pepper                                 4        kosher pepper\n",
      "lone bacon slice                              2     lone bacon slice\n",
      "sketchy banana                                1       sketchy banana\n"
     ]
    }
   ],
   "source": [
    "# Prepare for Matplotlib plots of Inventory for each item\n",
    "print(item_inv)\n",
    "print()\n",
    "item_inv_copy = item_inv.copy()\n",
    "item_inv_copy[\"item\"] = items_grouped[\"item\"].first()\n",
    "print(item_inv_copy)"
   ]
  },
  {
   "cell_type": "code",
   "execution_count": 377,
   "metadata": {},
   "outputs": [
    {
     "data": {
      "image/png": "[encoded data removed]",
      "text/plain": [
       "<Figure size 576x288 with 1 Axes>"
      ]
     },
     "metadata": {
      "needs_background": "light"
     },
     "output_type": "display_data"
    }
   ],
   "source": [
    "# Inventory for each item\n",
    "\n",
    "# Set size of graph\n",
    "plt.figure(figsize=(8,4))\n",
    "\n",
    "x_axis = np.arange(len(item_inv_copy[\"item\"]))\n",
    "\n",
    "plt.xticks(x_axis, item_inv_copy[\"item\"], rotation=45, ha=\"right\") \n",
    "\n",
    "# Set x and y limits\n",
    "plt.xlim(-0.75, len(x_axis)-0.25) \n",
    "plt.ylim(0, max(item_inv_copy[\"Item Total Inventory Count\"]*1.05)) \n",
    "\n",
    "# plt.tight_layout()\n",
    "\n",
    "# Generate the bar graph\n",
    "plt.bar(x=x_axis, height=item_inv_copy[\"Item Total Inventory Count\"], color='r', alpha=0.5, align=\"center\")\n",
    "\n",
    "# Set a Title and labels\n",
    "plt.title(\"Inventory for Each Item\", pad=15, fontsize=18)\n",
    "plt.xlabel(\"Item\", fontsize=12)\n",
    "plt.ylabel(\"Inventory Count\", fontsize=12) \n",
    "\n",
    "# Save our graph and show the graph\n",
    "plt.savefig(\"inventory_for_each_item.png\")\n",
    "plt.show()"
   ]
  },
  {
   "cell_type": "code",
   "execution_count": 378,
   "metadata": {},
   "outputs": [
    {
     "name": "stdout",
     "output_type": "stream",
     "text": [
      "Groupby item for individual item inventory counts:\n",
      "--------------------------------------------------\n",
      "\n",
      "                     inventory price\n",
      "item                                \n",
      "empirical pineapple         11     3\n",
      "holiday cheer               20   5.1\n",
      "kosher pepper                4   2.3\n",
      "lone bacon slice             2     2\n",
      "sketchy banana               1     1\n",
      "\n"
     ]
    },
    {
     "data": {
      "image/png": "[encoded data removed]",
      "text/plain": [
       "<Figure size 432x288 with 1 Axes>"
      ]
     },
     "metadata": {
      "needs_background": "light"
     },
     "output_type": "display_data"
    }
   ],
   "source": [
    "# Scatter plot of Price vs. Inventory\n",
    "\n",
    "# Groupby item\n",
    "print(\"Groupby item for individual item inventory counts:\")\n",
    "print(\"--------------------------------------------------\")\n",
    "print()\n",
    "itms_grouped = food_df.groupby([\"item\"])\n",
    "itm_inv = pd.DataFrame(itms_grouped[\"inventory\"].sum())\n",
    "itm_inv[\"price\"] = itms_grouped[\"price\"].first()\n",
    "print(itm_inv)\n",
    "print()\n",
    "\n",
    "# Incorporate the other graph properties\n",
    "# x & y axis Limits\n",
    "plt.xlim(0, itm_inv[\"price\"].max() + 1) \n",
    "plt.ylim(0, itm_inv[\"inventory\"].max() + 2)\n",
    "\n",
    "# Grid\n",
    "plt.grid()\n",
    "\n",
    "# Title and x & y axis labels\n",
    "plt.title(\"Price of Item vs. Inventory\", pad=15, fontsize=20)\n",
    "plt.xlabel(\"Price in $\")\n",
    "plt.ylabel(\"Inventory\")\n",
    "\n",
    "# Build the scatter plots\n",
    "pi_handle = plt.scatter(x=itm_inv[\"price\"], y=itm_inv[\"inventory\"], marker=\"o\", color=\"lightskyblue\", edgecolors=\"black\", alpha=0.8)\n",
    "\n",
    "# Save Figure\n",
    "plt.savefig(\"price_vs_inventory_1.png\")\n",
    "\n",
    "# Plot it\n",
    "plt.show()"
   ]
  },
  {
   "cell_type": "code",
   "execution_count": 379,
   "metadata": {},
   "outputs": [
    {
     "data": {
      "image/png": "[encoded data removed]",
      "text/plain": [
       "<Figure size 432x288 with 1 Axes>"
      ]
     },
     "metadata": {
      "needs_background": "light"
     },
     "output_type": "display_data"
    }
   ],
   "source": [
    "# Scatter plot of Price vs. Inventor where size of ploted point is relative to amount of inventory for that item\n",
    "\n",
    "# Incorporate the other graph properties\n",
    "# x & y axis Limits\n",
    "plt.xlim(0, itm_inv[\"price\"].max() + 1) \n",
    "plt.ylim(0, itm_inv[\"inventory\"].max() + 2)\n",
    "\n",
    "# Grid\n",
    "plt.grid()\n",
    "\n",
    "# Title and x & y axis labels\n",
    "plt.title(\"Price of Item vs. Inventory\", pad=15, fontsize=20)\n",
    "plt.xlabel(\"Price in $\")\n",
    "plt.ylabel(\"Inventory\")\n",
    "\n",
    "# Build the scatter plots\n",
    "pi_handle = plt.scatter(x=itm_inv[\"price\"], y=itm_inv[\"inventory\"], marker=\"o\", color=\"lightskyblue\", s=(itm_inv[\"inventory\"]*20), edgecolors=\"black\", alpha=0.8)\n",
    "\n",
    "# Save Figure\n",
    "plt.savefig(\"price_vs_inventory_2.png\")\n",
    "\n",
    "# Plot it\n",
    "plt.show()"
   ]
  },
  {
   "cell_type": "code",
   "execution_count": 381,
   "metadata": {},
   "outputs": [
    {
     "name": "stdout",
     "output_type": "stream",
     "text": [
      "\n",
      "                     Inventory Count  Price % of Inventory\n",
      "item                                                      \n",
      "empirical pineapple               11  $3.00         28.95%\n",
      "holiday cheer                     20  $5.10         52.63%\n",
      "kosher pepper                      4  $2.30         10.53%\n",
      "lone bacon slice                   2  $2.00          5.26%\n",
      "sketchy banana                     1  $1.00          2.63%\n",
      "\n"
     ]
    },
    {
     "data": {
      "image/png": "[encoded data removed]",
      "text/plain": [
       "<Figure size 432x288 with 1 Axes>"
      ]
     },
     "metadata": {},
     "output_type": "display_data"
    }
   ],
   "source": [
    "# Pie Plot for % of inventory each item takes up\n",
    "\n",
    "# Calculate Percents\n",
    "itm_inv[\"pct\"] = (itm_inv[\"inventory\"] / (itm_inv[\"inventory\"].sum()) * 100)\n",
    "itm_inv[\"item\"] = itms_grouped[\"item\"].first()\n",
    "# print(itm_inv)\n",
    "# print()\n",
    "\n",
    "# Build the Pie Chart - Create the data\n",
    "# Labels for the sections of our pie chart\n",
    "labels = itm_inv[\"item\"]\n",
    "# print(labels) # For testing only\n",
    "# print()\n",
    "\n",
    "# The values of each section of the pie chart\n",
    "sizes = itm_inv[\"pct\"]\n",
    "# print(sizes) # For testing only\n",
    "# print()\n",
    "\n",
    "# The colors of each section of the pie chart\n",
    "colors = [\"gold\", \"lightskyblue\", \"red\", \"purple\", \"green\"]\n",
    "# print(colors) # For testing only\n",
    "          \n",
    "# Tells matplotlib to seperate the \"Python\" section from the others\n",
    "explode = [0, 0.1, 0, 0, 0]\n",
    "\n",
    "# Tells matplotlib that we want a pie chart with equal axes\n",
    "plt.axis(\"equal\") \n",
    "\n",
    "# Add a title\n",
    "plt.title(\"% of Inventory by Item\", pad=15, fontsize=18)\n",
    "\n",
    "plt.pie(sizes, explode=explode, labels=labels, colors=colors, autopct=\"%1.1f%%\", shadow=True, startangle=180, radius=1)\n",
    "\n",
    "# Save Figure\n",
    "plt.savefig(\"pct_of_inventory_by_item.png\")\n",
    "\n",
    "itm_inv_copy = itm_inv.copy()\n",
    "# print(itm_inv_copy)\n",
    "# print()\n",
    "del itm_inv_copy[\"item\"]\n",
    "# print(itm_inv_copy)\n",
    "itm_inv_copy[\"price\"] = itm_inv_copy[\"price\"].map(\"${:,.2f}\".format)\n",
    "itm_inv_copy[\"pct\"] = itm_inv_copy[\"pct\"].map(\"{:,.2f}%\".format)\n",
    "itm_inv_copy = itm_inv_copy.rename(columns={\"inventory\" : \"Inventory Count\",\n",
    "                                           \"price\" : \"Price\",\n",
    "                                           \"pct\" : \"% of Inventory\"})\n",
    "print()\n",
    "print(itm_inv_copy)\n",
    "print()\n",
    "\n",
    "plt.show()"
   ]
  }
 ],
 "metadata": {
  "kernelspec": {
   "display_name": "Python 3",
   "language": "python",
   "name": "python3"
  },
  "language_info": {
   "codemirror_mode": {
    "name": "ipython",
    "version": 3
   },
   "file_extension": ".py",
   "mimetype": "text/x-python",
   "name": "python",
   "nbconvert_exporter": "python",
   "pygments_lexer": "ipython3",
   "version": "3.7.0"
  }
 },
 "nbformat": 4,
 "nbformat_minor": 2
}
